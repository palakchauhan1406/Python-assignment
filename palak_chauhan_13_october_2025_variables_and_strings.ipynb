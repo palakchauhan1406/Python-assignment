{
 "cells": [
  {
   "cell_type": "markdown",
   "id": "648cf862-7284-4c28-9057-668be5159a29",
   "metadata": {},
   "source": [
    "# <B><h3> <center> <U>***Assignment***</u>:- 1 </h3></center></B>"
   ]
  },
  {
   "cell_type": "markdown",
   "id": "96559695-0bfa-4d65-a54e-805a6192d9cf",
   "metadata": {},
   "source": [
    "### PART A : Variables"
   ]
  },
  {
   "cell_type": "markdown",
   "id": "f4de7452-2ed1-41be-a1e3-1d4cac4c5da2",
   "metadata": {},
   "source": [
    "<B>Q1. Define what a variable in Python. Give an example."
   ]
  },
  {
   "cell_type": "code",
   "execution_count": null,
   "id": "909393ad-41be-439f-b9af-becf66e69e1b",
   "metadata": {},
   "outputs": [],
   "source": [
    "# A variable in python is a storage container that holds data , such as numbers ,texts, or lists that can be used and changed later in a program.\n",
    "# Syntax: variable_name=value\n",
    "# Eg: name=\"Palak\""
   ]
  },
  {
   "cell_type": "markdown",
   "id": "3409e08a-b671-42b8-b12c-1d7fd67e9575",
   "metadata": {},
   "source": [
    "<b>Q2. Create 3 variables x ,y and z with integer, float and string values. Print their types."
   ]
  },
  {
   "cell_type": "code",
   "execution_count": null,
   "id": "2db3f6f6-7f26-4c41-8c19-adccce80aff0",
   "metadata": {},
   "outputs": [],
   "source": [
    "x = 29\n",
    "y = 3.4\n",
    "z = \"hello\"\n",
    "print(type(x))\n",
    "print(type(y))\n",
    "print(type(z))"
   ]
  },
  {
   "cell_type": "markdown",
   "id": "02125a8e-7f9d-4ca6-b699-f636bab2a49f",
   "metadata": {},
   "source": [
    "<b>Q3. Swap the values of two variables without using a third variable."
   ]
  },
  {
   "cell_type": "code",
   "execution_count": 8,
   "id": "50793e2d-f464-407c-9d84-285334adfc83",
   "metadata": {},
   "outputs": [
    {
     "name": "stdout",
     "output_type": "stream",
     "text": [
      "Before swapping: a= 20,b= 40\n",
      "After  swapping: a= 40,b= 20\n"
     ]
    }
   ],
   "source": [
    "a = 20\n",
    "b = 40\n",
    "print(f\"Before swapping: a= {a},b= {b}\")\n",
    "#swapping values\n",
    "a,b = b,a\n",
    "print(f\"After  swapping: a= {a},b= {b}\")\n"
   ]
  },
  {
   "cell_type": "markdown",
   "id": "23be2496-c3bd-499d-9188-71c1cb58a0d8",
   "metadata": {},
   "source": [
    "<b>Q4. Assign a single value to multiple variables in one line. Show with an example\n",
    "   "
   ]
  },
  {
   "cell_type": "code",
   "execution_count": 11,
   "id": "820413ad-9b9e-459f-811f-54743770c6f7",
   "metadata": {},
   "outputs": [
    {
     "name": "stdout",
     "output_type": "stream",
     "text": [
      "a = 10000\n",
      "b = 10000\n",
      "c = 10000\n"
     ]
    }
   ],
   "source": [
    "#assigning single value to multiple variables\n",
    "a = b = c = 10000\n",
    "print(\"a =\", a)\n",
    "print(\"b =\", b)\n",
    "print(\"c =\", c)\n"
   ]
  },
  {
   "cell_type": "markdown",
   "id": "c4c925d9-0916-47a3-b2a2-e01e44f492a5",
   "metadata": {},
   "source": [
    "<b>Q5. Assign multiple values to multiple variables in one line. Show with an example."
   ]
  },
  {
   "cell_type": "code",
   "execution_count": 12,
   "id": "5535316b-adbf-4987-b784-15251212afe5",
   "metadata": {},
   "outputs": [
    {
     "name": "stdout",
     "output_type": "stream",
     "text": [
      "p = 10\n",
      "q = hii\n",
      "r = 3.14\n"
     ]
    }
   ],
   "source": [
    "#assigning multiple values to multiple variables in one line\n",
    "p , q , r = 10, \"hii\" ,3.14\n",
    "print(\"p =\" ,p)\n",
    "print(\"q =\" ,q)\n",
    "print(\"r =\" ,r)"
   ]
  },
  {
   "cell_type": "markdown",
   "id": "7d74db1a-cd7e-430e-b016-eb89c4ffcfe6",
   "metadata": {},
   "source": [
    "<b>Q6. Explain the difference between = and == with examples."
   ]
  },
  {
   "cell_type": "code",
   "execution_count": 15,
   "id": "d4d59b0a-5120-47a1-a9e8-d3a5444c0c90",
   "metadata": {},
   "outputs": [
    {
     "name": "stdout",
     "output_type": "stream",
     "text": [
      "True\n"
     ]
    }
   ],
   "source": [
    "# '=' is an assignment operator that is used to assign a value to the variables.\n",
    "#Eg:\n",
    "x = 80  #'=' assigns value 80 to x\n",
    "y = 80  #'=' assigns value 80 to y\n",
    "\n",
    "# '==' is an comparison operator that is used to compare two values to check if they are equal or not and returns True if equal otherwise returns False.\n",
    "#Eg:\n",
    "print(x==y) #'==' compares values of x and y"
   ]
  },
  {
   "cell_type": "markdown",
   "id": "142452fa-157a-460a-8fff-899fcf5f9ea5",
   "metadata": {},
   "source": [
    "<b>Q7. Write a program to calculate the area of a rectange using variables length and breadth."
   ]
  },
  {
   "cell_type": "code",
   "execution_count": 18,
   "id": "703f85a9-6420-4945-af86-585cb5450458",
   "metadata": {},
   "outputs": [
    {
     "name": "stdin",
     "output_type": "stream",
     "text": [
      "Enter the length of rectangle:  12\n",
      "Enter the breadth of rectangle:  34\n"
     ]
    },
    {
     "name": "stdout",
     "output_type": "stream",
     "text": [
      "The area of rectangle is : 408\n"
     ]
    }
   ],
   "source": [
    "#To calculate the area of rectangle\n",
    "length= int(input(\"Enter the length of rectangle: \"))\n",
    "breadth= int(input(\"Enter the breadth of rectangle: \"))\n",
    "area = length * breadth #area\n",
    "print(\"The area of rectangle is :\" , area)"
   ]
  },
  {
   "cell_type": "markdown",
   "id": "06647862-1983-430e-99c0-620a2a6841ac",
   "metadata": {},
   "source": [
    "<b>Q8. Write a python program to compute the average of three numbers stored in variables."
   ]
  },
  {
   "cell_type": "code",
   "execution_count": 20,
   "id": "d23c64ed-d38e-4535-bc8b-bdaf651e52d2",
   "metadata": {},
   "outputs": [
    {
     "name": "stdout",
     "output_type": "stream",
     "text": [
      "The avrage of three numbers is: 14.0\n"
     ]
    }
   ],
   "source": [
    "#To calculate the average of three numbers\n",
    "num1 = 3\n",
    "num2 = 25\n",
    "num3 = 14\n",
    "avg=(num1+num2+num3)/ 3\n",
    "print(\"The avrage of three numbers is:\",avg)"
   ]
  },
  {
   "cell_type": "markdown",
   "id": "28b7443f-efde-44fc-94d8-d27086622281",
   "metadata": {},
   "source": [
    "<b>Q9. Create a variable a = 10 and b = 5. Perform addition, subtraction, multiplication, division ,modulus, and floor division."
   ]
  },
  {
   "cell_type": "code",
   "execution_count": 24,
   "id": "29b742c7-b1dc-4def-879a-1feef21dacde",
   "metadata": {},
   "outputs": [
    {
     "name": "stdout",
     "output_type": "stream",
     "text": [
      "Additon: 15\n",
      "Subtraction: 5\n",
      "Multiplication: 50\n",
      "Division: 2.0\n",
      "Modulus: 0\n",
      "Floor division: 2\n"
     ]
    }
   ],
   "source": [
    "a = 10\n",
    "b = 5\n",
    "#operations....\n",
    "add= a + b\n",
    "sub= a - b\n",
    "multiply= a * b\n",
    "div= a / b\n",
    "modulus= a % b\n",
    "floor_division= a // b\n",
    "print(\"Additon:\", add)\n",
    "print(\"Subtraction:\", sub)\n",
    "print(\"Multiplication:\", multiply)\n",
    "print(\"Division:\", div)\n",
    "print(\"Modulus:\", modulus)\n",
    "print(\"Floor division:\",floor_division)\n"
   ]
  },
  {
   "cell_type": "markdown",
   "id": "c0050576-3282-4237-b71e-924e8535b7f1",
   "metadata": {},
   "source": [
    "<b>Q10. What are constants? Explain with examples in python."
   ]
  },
  {
   "cell_type": "code",
   "execution_count": 27,
   "id": "cc126006-42cf-4ca0-9eeb-8f54ebf0c4c5",
   "metadata": {},
   "outputs": [
    {
     "name": "stdout",
     "output_type": "stream",
     "text": [
      "Area of circle: 78.53975\n"
     ]
    }
   ],
   "source": [
    "'''A constant is a variable whose value does not change throughout the execution of a program.\n",
    "        There is no built-in constant type,but by convention , we use upper case letters to indicate a constant.'''\n",
    "#Eg:\n",
    "PI = 3.14159 #constant value\n",
    "radius= 5\n",
    "area = PI * radius * radius #area of circle \n",
    "print(\"Area of circle:\" , area)"
   ]
  },
  {
   "cell_type": "markdown",
   "id": "9bf3b1cb-d1c2-47cf-8230-f9b59c1a7152",
   "metadata": {},
   "source": [
    "<b>Q11. Define variable naming rules in Python with correct and incorrect examples."
   ]
  },
  {
   "cell_type": "code",
   "execution_count": 28,
   "id": "aaf2d60c-5cff-4c2b-8976-52f296eda9d4",
   "metadata": {},
   "outputs": [
    {
     "name": "stdout",
     "output_type": "stream",
     "text": [
      "19 60 PALAK CHAUHAN 47\n"
     ]
    }
   ],
   "source": [
    "''' Rules for namimg variable....\n",
    "   1). Variable name can contain letters(a-z) orr (A-Z) , digits (0-9) and underscore( _ ).\n",
    "   2). Must start with a letter or underscore.\n",
    "   3). Cannot start with a digit.\n",
    "   4). They are case sensitive. (means age and Age are different variables.)\n",
    "   5). Cannot use Python keywords ( eg: if, for, while, else, class etc.)\n",
    "   6). No space allowed.(use underscore for space)\n",
    "\n",
    "Eg: '''\n",
    "#correct \n",
    "_age = 19\n",
    "Age1 = 60\n",
    "full_name = \"PALAK CHAUHAN\"\n",
    "rollNumber = 47\n",
    "print(_age , Age1 , full_name , rollNumber) \n",
    "\n",
    "'''Incorrect \n",
    "1age = 19\n",
    "full-name = \"Palak\"\n",
    "roll@number: 47\n",
    "class = \"CSE\"\n",
    "total score = 99\n",
    "print(1gae , full-name , roll@number , class , total score)''' #Error will be shown.\n"
   ]
  },
  {
   "cell_type": "markdown",
   "id": "7b7bb0ae-1f36-49a2-b7d8-23d7504cc8c9",
   "metadata": {},
   "source": [
    "<b>Q12. What is the difference between local and global variables? Demonstrate with code."
   ]
  },
  {
   "cell_type": "code",
   "execution_count": 3,
   "id": "684b9d9c-beb3-4cf3-bac6-5ca56c33bbd2",
   "metadata": {},
   "outputs": [
    {
     "name": "stdout",
     "output_type": "stream",
     "text": [
      "Inside function:\n",
      "Global variable x= 50\n",
      "Local variable y= 20\n",
      "\n",
      "Outside function:\n",
      "Global variable: 50\n"
     ]
    }
   ],
   "source": [
    "''' Variable can have different scopes depending on where they are defined.\n",
    "    The two main types are:-\n",
    "        a). Local variable: variables that are declared inside a function.\n",
    "                scope: accessible only inside the function.\n",
    "                lifetime: exists only while the function is executing.\n",
    "        te\n",
    "        b). Global variable: variables declared outside of any function , usually at the top of the program.\n",
    "                    scope: accessible from anywhere in the program including inside functions.\n",
    "                    lifetime: exists throughout the program execution.'''\n",
    "#Eg:\n",
    "\n",
    "#global variable\n",
    "x = 50  \n",
    "def demo():\n",
    "    #local variable\n",
    "    y = 20\n",
    "    print(\"Inside function:\")\n",
    "    print(\"Global variable x=\",x)\n",
    "    print(\"Local variable y=\",y)\n",
    "demo()\n",
    "print(\"\\nOutside function:\")\n",
    "print(\"Global variable:\",x)\n",
    "    \n",
    "        "
   ]
  },
  {
   "cell_type": "markdown",
   "id": "fed933d6-e7ec-4f5b-869b-94683cbf8d8c",
   "metadata": {},
   "source": [
    "<b>Q13. Show an example of dynamic typing in Python."
   ]
  },
  {
   "cell_type": "code",
   "execution_count": 30,
   "id": "54577ffe-d2bb-4d71-98db-3d59f6cbb702",
   "metadata": {},
   "outputs": [
    {
     "name": "stdout",
     "output_type": "stream",
     "text": [
      "25 <class 'int'>\n",
      "26.7 <class 'float'>\n",
      "Good morning <class 'str'>\n"
     ]
    }
   ],
   "source": [
    "''' Dynamic typing means that a variable does not have a fixed data type .You can assign different value of different data type to the same variable.\n",
    "    Python automatically adjusts the type based on the value at runtime '''\n",
    "#Eg:\n",
    "a = 25  # a is an integer\n",
    "print(a , type(a))\n",
    "a = 26.7 # a is a float\n",
    "print(a , type(a))\n",
    "a = \"Good morning\"  # a is a string\n",
    "print(a , type(a))\n"
   ]
  },
  {
   "cell_type": "markdown",
   "id": "f600ecfa-9edd-4fb3-9b8d-91b89a5d873d",
   "metadata": {},
   "source": [
    "<b>Q14. Explain type casting with an example of converting integer to float and string to integer."
   ]
  },
  {
   "cell_type": "code",
   "execution_count": 32,
   "id": "0eaf8db5-1718-4dd8-a4f4-1db35bd337ee",
   "metadata": {},
   "outputs": [
    {
     "name": "stdout",
     "output_type": "stream",
     "text": [
      "Integer: 25 Type: <class 'int'>\n",
      "Float: 25.0 Type: <class 'float'>\n"
     ]
    }
   ],
   "source": [
    "'''Type casting is the process of converting a variable from one data type to another.\n",
    "   Python supports explicit type casting , where you use functions like int(), float() and str() to convert between types.'''\n",
    " \n",
    "#Converting integer to float \n",
    "num_int = 25    # integer\n",
    "num_float =float(num_int)  #convert to float\n",
    "print(\"Integer:\", num_int, \"Type:\",type(num_int))\n",
    "print(\"Float:\" , num_float, \"Type:\", type(num_float))\n",
    "\n",
    "#Converting string to integer\n",
    "num_str = \"10\"\n",
    "num_int = int(num_str)\n",
    "print(\"string:\" , num_str , \"Type:\",type(num_str))\n",
    "print(\"s:\" , num_str , \"Type:\",type(num_str))\n"
   ]
  },
  {
   "cell_type": "markdown",
   "id": "5dcaa6ca-9b5a-46bf-8486-4721db11d43e",
   "metadata": {},
   "source": [
    "<b>Q15. Write a program to calculate the simple interest using variables."
   ]
  },
  {
   "cell_type": "code",
   "execution_count": 2,
   "id": "ff5f14b3-a8bc-4679-9a0a-bb0fc89bb154",
   "metadata": {},
   "outputs": [
    {
     "name": "stdout",
     "output_type": "stream",
     "text": [
      "Simple interest = 200.0\n"
     ]
    }
   ],
   "source": [
    "#To calculate  simple interest...\n",
    "P = 1000 #Principal amount\n",
    "R = 10    #Rate of interest in %\n",
    "T = 2    #Time (in years)\n",
    "SI=(P * R * T)/ 100\n",
    "print(\"Simple interest =\", SI)\n"
   ]
  },
  {
   "cell_type": "markdown",
   "id": "f7fb3c1a-2d25-4c33-9562-335691d03444",
   "metadata": {},
   "source": [
    "<b>Q16. Store your name, age, and course name in variables. Print them using formatted string (f-string)."
   ]
  },
  {
   "cell_type": "code",
   "execution_count": 5,
   "id": "f8ef04a0-d661-487e-a010-7b429f110a72",
   "metadata": {},
   "outputs": [
    {
     "name": "stdout",
     "output_type": "stream",
     "text": [
      " My name is Palak Chauhan, i am 19 years old and i am studying Basics of Python.\n"
     ]
    }
   ],
   "source": [
    "name = \"Palak Chauhan\"\n",
    "age = 19\n",
    "course = \"Basics of Python\"\n",
    "print(f\" My name is {name}, i am {age} years old and i am studying {course}.\")"
   ]
  },
  {
   "cell_type": "markdown",
   "id": "0320a877-35a8-44bd-b521-3d71cfb5f74f",
   "metadata": {},
   "source": [
    "<b>Q17. Write a program to swap two numbers using a temporary variable."
   ]
  },
  {
   "cell_type": "code",
   "execution_count": 9,
   "id": "ba0f20da-1a7d-4d67-8202-288cd0380a0b",
   "metadata": {},
   "outputs": [
    {
     "name": "stdin",
     "output_type": "stream",
     "text": [
      "Enter 1st no. :  12\n",
      "Enter 2nd no. :  18\n"
     ]
    },
    {
     "name": "stdout",
     "output_type": "stream",
     "text": [
      "Before swapping : x= 12 y= 18\n",
      "After swapping : x= 18 y= 12\n"
     ]
    }
   ],
   "source": [
    "#To swap two numbers using  third variable...\n",
    "x = int(input(\"Enter 1st no. : \"))\n",
    "y = int(input(\"Enter 2nd no. : \"))\n",
    "print(\"Before swapping : x=\" ,x , \"y=\",y)\n",
    "temp = x\n",
    "x = y\n",
    "y = temp\n",
    "print(\"After swapping : x=\" ,x , \"y=\" ,y)\n",
    "\n"
   ]
  },
  {
   "cell_type": "markdown",
   "id": "1e0f597c-05d0-43c5-8e9a-1926cb10171b",
   "metadata": {},
   "source": [
    "<b>Q18. Explain mutable vs immutable objects. Which category does a string belong to?\n"
   ]
  },
  {
   "cell_type": "code",
   "execution_count": 14,
   "id": "65a5f1ac-141f-4e67-ba58-22824f3857ab",
   "metadata": {},
   "outputs": [
    {
     "name": "stdout",
     "output_type": "stream",
     "text": [
      "[1, 4, 7, 8, 9]\n",
      "Good morning\n"
     ]
    }
   ],
   "source": [
    "'''In python everything is treated as an object , but objects differ in their values whether they can be changed after creation or not.\n",
    "   a). Mutable objects: their value can be modified after creation.\n",
    "       when you modify them , the same memory location is updated.\n",
    "       #Eg: list, dictionary , sets. '''\n",
    "\n",
    "l1 = [1,4,7,8]\n",
    "l1.append(9)\n",
    "print(l1)\n",
    "\n",
    "''' b). Immutable objects: their value cannot be modified after creation.\n",
    "        Any modificaton creates a new object in memory.\n",
    "        #Eg: tuple, string ,int , float. '''\n",
    "\n",
    "name = \"Good\"\n",
    "name = name + \" morning\" #'Good' string remain unchanged. only a new string object was created.\n",
    "print(name)\n",
    "\n",
    "#-----> String is an immutable object in python. Cannot change its character directly. Any modification creates a new string.\n",
    "        "
   ]
  },
  {
   "cell_type": "markdown",
   "id": "098837a9-3624-4b22-82c7-62934fc22514",
   "metadata": {},
   "source": [
    "<b>Q19. Write a program to convert temperature from celsius to Fahrenheit using variables."
   ]
  },
  {
   "cell_type": "code",
   "execution_count": 18,
   "id": "f2c72d98-120b-4068-a9c6-a90d9372ba9d",
   "metadata": {},
   "outputs": [
    {
     "name": "stdin",
     "output_type": "stream",
     "text": [
      "Enter the temperature in Celsius:  45\n"
     ]
    },
    {
     "name": "stdout",
     "output_type": "stream",
     "text": [
      " Tenperature in Fahrenheit: 113.0\n"
     ]
    }
   ],
   "source": [
    "#To  convert  temperature from celsius into fahrenheit....\n",
    "celsius = float(input(\"Enter the temperature in Celsius: \"))\n",
    "fahrenheit= (celsius * 9/5) + 32    #celsius to fahrenheit\n",
    "print(f\" Tenperature in Fahrenheit: {fahrenheit}\")\n"
   ]
  },
  {
   "cell_type": "markdown",
   "id": "d80805d0-3f3e-4e74-b026-08f059262086",
   "metadata": {},
   "source": [
    "<b>Q20. Create a variable radius. Calculate the area and circumference of circle."
   ]
  },
  {
   "cell_type": "code",
   "execution_count": 21,
   "id": "4a801558-4518-486a-8c9c-836ea49214a6",
   "metadata": {},
   "outputs": [
    {
     "name": "stdin",
     "output_type": "stream",
     "text": [
      "Enter radius of circle :  6\n"
     ]
    },
    {
     "name": "stdout",
     "output_type": "stream",
     "text": [
      " Area of circle: 113.03999999999999\n",
      " Circumference of circle: 37.68\n"
     ]
    }
   ],
   "source": [
    "#To calculate the area and circumference of a circle...\n",
    "radius = float(input(\"Enter radius of circle : \"))\n",
    "area = 3.14 * radius * radius\n",
    "circumference = 2 * 3.14 * radius\n",
    "print(f\" Area of circle: {area}\")\n",
    "print(f\" Circumference of circle: {circumference}\")"
   ]
  },
  {
   "cell_type": "markdown",
   "id": "6a7661ce-978c-4ba2-bd89-5b654520b850",
   "metadata": {},
   "source": [
    "<b>Q21. Demonstrate concatenation of integer and string with type coonversion."
   ]
  },
  {
   "cell_type": "code",
   "execution_count": 8,
   "id": "9511834d-f5ce-41f3-af75-016bb46f62f0",
   "metadata": {},
   "outputs": [
    {
     "name": "stdout",
     "output_type": "stream",
     "text": [
      "I ate 2 pizza today.\n"
     ]
    }
   ],
   "source": [
    "#concatenation of integer and string using type conversion...\n",
    "junkFood = \"pizza\"\n",
    "num = 2\n",
    "#converting integer into string..\n",
    "result = \"I ate \" + str(num)+ \" \" +  junkFood + \" today.\"\n",
    "print(result)\n"
   ]
  },
  {
   "cell_type": "markdown",
   "id": "7efb67e1-3de9-462c-bb98-0be5aa6f7653",
   "metadata": {},
   "source": [
    "<b>Q22. What happens if you see an undefined variables in Python? Show an example."
   ]
  },
  {
   "cell_type": "code",
   "execution_count": 17,
   "id": "f79c23ae-9957-46e4-8051-e6495fcd36d2",
   "metadata": {},
   "outputs": [
    {
     "name": "stdout",
     "output_type": "stream",
     "text": [
      "12\n"
     ]
    }
   ],
   "source": [
    "''' If we try to use an undefined variable means the variable that hasn't been assigned any value.\n",
    "    Python checks whether the variable exists in memory or not.\n",
    "    If not then python will raise an NmaeError.'''\n",
    "'''Eg:-\n",
    "#Trying to print an undefined variable\n",
    "print(number)    #output:- NameError : name 'number' is not defined'''\n",
    "\n",
    "#correct example\n",
    "number = 12\n",
    "print(number)\n",
    "    \n",
    "    "
   ]
  },
  {
   "cell_type": "markdown",
   "id": "18a61276-b699-406e-8602-cad883632892",
   "metadata": {},
   "source": [
    "<b>Q23. Write a program to calculate the perimeter of a triangle using variables. "
   ]
  },
  {
   "cell_type": "code",
   "execution_count": 18,
   "id": "2ff99667-f7e1-4c28-89f5-f245fea57d10",
   "metadata": {},
   "outputs": [
    {
     "name": "stdin",
     "output_type": "stream",
     "text": [
      "Enter 1st side:  12\n",
      "Enter 2nd side:  12\n",
      "Enter 3rd side:  14\n"
     ]
    },
    {
     "name": "stdout",
     "output_type": "stream",
     "text": [
      "The perimeter of triangle is: 38.0\n"
     ]
    }
   ],
   "source": [
    "#To calculate the perimeter of a triangle \n",
    "s1 = float(input(\"Enter 1st side: \"))\n",
    "s2 = float(input(\"Enter 2nd side: \"))\n",
    "s3 = float(input(\"Enter 3rd side: \"))\n",
    "perimeter = s1 + s2 + s3\n",
    "print(f\"The perimeter of triangle is: {perimeter}\")\n"
   ]
  },
  {
   "cell_type": "markdown",
   "id": "8a2a03e4-48f3-4fca-9978-1d05c4551fa2",
   "metadata": {},
   "source": [
    "<B>Q24. Store marks of 5 subjects in variables . Calculate and print total and percentage."
   ]
  },
  {
   "cell_type": "code",
   "execution_count": 21,
   "id": "125066e9-48bf-484a-9672-01d4ab6578f0",
   "metadata": {},
   "outputs": [
    {
     "name": "stdin",
     "output_type": "stream",
     "text": [
      "Marks of 1st subject:  45\n",
      "Marks of 2nd subject:  28\n",
      "Marks of 3rd subject:  30\n",
      "Marks of 4th subject:  50\n",
      "Marks of 5th subject:  48\n"
     ]
    },
    {
     "name": "stdout",
     "output_type": "stream",
     "text": [
      "Total=  201.0\n",
      "Percentage=  80.4 %\n"
     ]
    }
   ],
   "source": [
    "#To calculate the total and percentage of 5 subjects..\n",
    "sub1 = float(input(\"Marks of 1st subject: \"))\n",
    "sub2 = float(input(\"Marks of 2nd subject: \"))\n",
    "sub3 = float(input(\"Marks of 3rd subject: \"))\n",
    "sub4 = float(input(\"Marks of 4th subject: \"))\n",
    "sub5 = float(input(\"Marks of 5th subject: \"))\n",
    "total= sub1 + sub2 + sub3 + sub4 + sub5\n",
    "percentage = (total / 250)* 100      #suppose marks are given out of 50 \n",
    "print(\"Total= \",total)\n",
    "print(\"Percentage= \",percentage ,\"%\")\n"
   ]
  },
  {
   "cell_type": "markdown",
   "id": "b34f1936-5428-486a-85ef-dee807e71855",
   "metadata": {},
   "source": [
    "<b>Q25. Explain the difference between is and == operators with examples.\n"
   ]
  },
  {
   "cell_type": "code",
   "execution_count": 4,
   "id": "8ee1a311-a3ff-42f6-857a-bd1277927ecd",
   "metadata": {},
   "outputs": [
    {
     "name": "stdout",
     "output_type": "stream",
     "text": [
      "True\n",
      "False\n"
     ]
    }
   ],
   "source": [
    "'''  'is' and '==' are both comparison operators , but their use is different.\n",
    "    a). '==' : It is used to check whether the values of two objects are the same.\n",
    "                Does not care whether they are stored in the same memory location .'''\n",
    "#Eg:\n",
    "a = 40\n",
    "b = 40\n",
    "print(a==b) #values are  equal\n",
    "\n",
    "''' b). 'is' : It is used to check whether both variables refer to the same object in the memory .\n",
    "                Return True only if both point to exactly the same object. '''\n",
    "#Eg:\n",
    "a = [4,2,0]\n",
    "b = [4,2,0]\n",
    "print(a is b)   #same objects in memory.\n"
   ]
  },
  {
   "cell_type": "markdown",
   "id": "ef56605a-8e21-4685-9164-11693bca944c",
   "metadata": {},
   "source": [
    "### PART B : *Strings*"
   ]
  },
  {
   "cell_type": "markdown",
   "id": "2a13d24e-bb69-4342-9f5a-66bdade0b5fe",
   "metadata": {},
   "source": [
    "<b>Q26. Define  what a string is in python. Give 3 examples of string declarations."
   ]
  },
  {
   "cell_type": "code",
   "execution_count": 9,
   "id": "ad8bc8d5-fb0a-41dd-abda-94e343680171",
   "metadata": {},
   "outputs": [
    {
     "name": "stdout",
     "output_type": "stream",
     "text": [
      "Diwali monday October\n"
     ]
    }
   ],
   "source": [
    "''' A string is a sequence of characters enclosed within single quotes ' ' orr double \" \". Strings can contain letters, numbers, symbols or even spaces.\n",
    "    String are immutable , which  means once a string is created, it cannot be changed.'''\n",
    "#Eg:\n",
    "\n",
    "#using single quotes\n",
    "festival = 'Diwali'\n",
    "#using double quotes\n",
    "day = \"monday\"\n",
    "#using triple quotes\n",
    "month =\"\"\"October\"\"\"\n",
    "print(festival , day, month)\n"
   ]
  },
  {
   "cell_type": "markdown",
   "id": "f7905cba-ceb4-4f7b-9876-25962bd703f0",
   "metadata": {},
   "source": [
    "<b>Q27. Write a program to print your name in uppercase , lowercase and title case."
   ]
  },
  {
   "cell_type": "code",
   "execution_count": 10,
   "id": "4882b590-8db7-412c-a31c-ecac97541e41",
   "metadata": {},
   "outputs": [
    {
     "name": "stdin",
     "output_type": "stream",
     "text": [
      "Enter your name:  palak chauhan\n"
     ]
    },
    {
     "name": "stdout",
     "output_type": "stream",
     "text": [
      "In uppercase:  PALAK CHAUHAN\n",
      "In lowercase:  palak chauhan\n",
      "In title rcase:  Palak Chauhan\n"
     ]
    }
   ],
   "source": [
    "name=input(\"Enter your name: \")\n",
    "#convert to uppercase\n",
    "print(\"In uppercase: \",name.upper())\n",
    "#convert to lowercase\n",
    "print(\"In lowercase: \",name.lower())\n",
    "#convert to title case\n",
    "print(\"In title rcase: \",name.title())\n"
   ]
  },
  {
   "cell_type": "markdown",
   "id": "c5b4a72a-7bdb-4fdf-8e74-efe4f42b0944",
   "metadata": {},
   "source": [
    "<b>Q28. Find the length of a string using len()."
   ]
  },
  {
   "cell_type": "code",
   "execution_count": 11,
   "id": "6f8c48bf-7d93-4cdc-af89-43d5784f262b",
   "metadata": {},
   "outputs": [
    {
     "name": "stdout",
     "output_type": "stream",
     "text": [
      "The length of the string is :  13\n"
     ]
    }
   ],
   "source": [
    "#To find the length of the string\n",
    "\n",
    "greeting = \"Hii everyone!\"\n",
    "length = len(greeting)\n",
    "print(\"The length of the string is : \",length)"
   ]
  },
  {
   "cell_type": "markdown",
   "id": "1586c605-c688-4f38-9c48-77119dbb40d5",
   "metadata": {},
   "source": [
    "<b>Q29. Concatenate two strings and print the result."
   ]
  },
  {
   "cell_type": "code",
   "execution_count": 13,
   "id": "2a777a4e-01ac-47e2-bc0b-3c0e810031dd",
   "metadata": {},
   "outputs": [
    {
     "name": "stdout",
     "output_type": "stream",
     "text": [
      "Concatenated string :  Unisole Empower\n"
     ]
    }
   ],
   "source": [
    "# String concatenation\n",
    "\n",
    "string1 = \"Unisole\"\n",
    "string2 = \"Empower\"\n",
    "result = string1 + \" \" +string2\n",
    "print(\"Concatenated string : \",result)"
   ]
  },
  {
   "cell_type": "markdown",
   "id": "180fc9fd-84cb-4abc-bf31-9817a69f7b79",
   "metadata": {},
   "source": [
    "<b>Q30.  Extract the first 5 characters of the string \"Unisole Empower\"."
   ]
  },
  {
   "cell_type": "code",
   "execution_count": 16,
   "id": "8e09d50f-469a-40ef-8557-0f9f0c6089a1",
   "metadata": {},
   "outputs": [
    {
     "name": "stdout",
     "output_type": "stream",
     "text": [
      "First five chracters:  Uniso\n"
     ]
    }
   ],
   "source": [
    "#To extract the first 5 characters of the string...\n",
    "\n",
    "text=\"Unisole Empower\"\n",
    "five_letters = text[0:5]   # from index 0 to 4\n",
    "print(\"First five chracters: \",five_letters)"
   ]
  },
  {
   "cell_type": "markdown",
   "id": "1ef578a2-16bb-4721-9b75-d286910d8a2d",
   "metadata": {},
   "source": [
    "<b>Q31. Extract the last 4 characters of the string \"DataScience\"."
   ]
  },
  {
   "cell_type": "code",
   "execution_count": 17,
   "id": "1ac5daa3-5731-4ebc-b032-3466bbfa7e26",
   "metadata": {},
   "outputs": [
    {
     "name": "stdout",
     "output_type": "stream",
     "text": [
      "Last four characters:  ence\n"
     ]
    }
   ],
   "source": [
    "#To extract the last 4 characters of the string....\n",
    "\n",
    "text=\"DataScience\"\n",
    "last_four = text[-4:]  #from index to -4 to the end \n",
    "print(\"Last four characters: \",last_four)"
   ]
  },
  {
   "cell_type": "markdown",
   "id": "32db2de6-fd56-41b1-9afe-69b25711f57c",
   "metadata": {},
   "source": [
    "<b>Q32. Write a program to reverse a string."
   ]
  },
  {
   "cell_type": "code",
   "execution_count": 18,
   "id": "405a3b15-7b39-47b9-a529-f418f205808a",
   "metadata": {},
   "outputs": [
    {
     "name": "stdout",
     "output_type": "stream",
     "text": [
      "original string=  Unisole\n",
      "Reversed string=  elosinU\n"
     ]
    }
   ],
   "source": [
    "#To reverse a string\n",
    "\n",
    "text = \"Unisole\"\n",
    "reversed_text = text[::-1]\n",
    "print(\"original string= \",text)\n",
    "print(\"Reversed string= \",reversed_text)"
   ]
  },
  {
   "cell_type": "markdown",
   "id": "1f5ad118-b548-43af-b8cd-b49732487a89",
   "metadata": {},
   "source": [
    "<b>Q33. Check if a substring \"Empower\" exists in \"Unisole Empower\"."
   ]
  },
  {
   "cell_type": "code",
   "execution_count": 2,
   "id": "97125e3b-55ef-4b76-ba69-618ea7a853a1",
   "metadata": {},
   "outputs": [
    {
     "name": "stdout",
     "output_type": "stream",
     "text": [
      "Substring exists\n"
     ]
    }
   ],
   "source": [
    "text = \"Unisole Empower\"\n",
    "substring = \"Empower\"\n",
    "\n",
    "if substring in text:\n",
    "    print(\"Substring exists\")\n",
    "else:\n",
    "    print(\"Substring does not exists"
   ]
  },
  {
   "cell_type": "markdown",
   "id": "7c170406-87aa-4333-8ac9-1fd8e177bf8f",
   "metadata": {},
   "source": [
    "<b>Q34.  Replace \"Python\" with \"Data Science\" in the string \"I am learning Python\"."
   ]
  },
  {
   "cell_type": "code",
   "execution_count": 4,
   "id": "6988a9f4-4743-4b43-8d81-5b56c19e4fb7",
   "metadata": {},
   "outputs": [
    {
     "name": "stdout",
     "output_type": "stream",
     "text": [
      "After replacement:  I am learning Data Science\n"
     ]
    }
   ],
   "source": [
    "\n",
    "text= \"I am learning Python\"\n",
    "new_text = text.replace(\"Python\",\"Data Science\")\n",
    "print(\"After replacement: \",new_text)\n"
   ]
  },
  {
   "cell_type": "markdown",
   "id": "cf908bb5-1076-4abf-b8ea-9ba2bd43f162",
   "metadata": {},
   "source": [
    "<b>Q35. Remove spaces from the string \"Hello World\"."
   ]
  },
  {
   "cell_type": "code",
   "execution_count": 5,
   "id": "e5d5acdb-d6ab-460d-ada9-08d77d28129a",
   "metadata": {},
   "outputs": [
    {
     "name": "stdout",
     "output_type": "stream",
     "text": [
      "After removing space:  HelloWorld\n"
     ]
    }
   ],
   "source": [
    "\n",
    "text = \"Hello World\"\n",
    "no_space = text.replace(\" \",\"\")\n",
    "print(\"After removing space: \",no_space)\n"
   ]
  },
  {
   "cell_type": "markdown",
   "id": "9c5d3b94-cbea-47d3-b499-1bb40dba4cac",
   "metadata": {},
   "source": [
    "<b>Q36. Split the string \"apple, banana, mango\" into a list."
   ]
  },
  {
   "cell_type": "code",
   "execution_count": 6,
   "id": "00b4ea45-b33f-401f-89ec-1f7af57f533f",
   "metadata": {},
   "outputs": [
    {
     "name": "stdout",
     "output_type": "stream",
     "text": [
      "['apple', ' banana', ' mango']\n"
     ]
    }
   ],
   "source": [
    "\n",
    "text = \"apple, banana, mango\" \n",
    "text_list = text.split(\",\")\n",
    "print(text_list)\n"
   ]
  },
  {
   "cell_type": "markdown",
   "id": "e98618de-636d-4e21-a895-799f90bdf819",
   "metadata": {},
   "source": [
    "<b>\n",
    "Q37.  Join the list  [\"AI\",\"ML\",\"DL\"]  into a string with - separator."
   ]
  },
  {
   "cell_type": "code",
   "execution_count": 10,
   "id": "74da5fd1-e01e-440c-a087-e2087bfbc4ae",
   "metadata": {},
   "outputs": [
    {
     "name": "stdout",
     "output_type": "stream",
     "text": [
      "AI-ML-DL\n"
     ]
    }
   ],
   "source": [
    "\n",
    "l1 =  [\"AI\",\"ML\",\"DL\"] \n",
    "join_string = \"-\".join(l1)\n",
    "print(join_string)\n"
   ]
  },
  {
   "cell_type": "markdown",
   "id": "c3168d7c-8248-4342-940a-5faa1bfc6e6d",
   "metadata": {},
   "source": [
    "<b>Q38.  Write a program to count the number of vowels in a string."
   ]
  },
  {
   "cell_type": "code",
   "execution_count": 11,
   "id": "38dab14f-d19b-40a6-b254-fa9e47c76d59",
   "metadata": {},
   "outputs": [
    {
     "name": "stdout",
     "output_type": "stream",
     "text": [
      "Number of vowels: 4\n"
     ]
    }
   ],
   "source": [
    "\n",
    "text = \"good morning\"\n",
    "vowels = \"aeiouAEIOU\"\n",
    "count = 0\n",
    "\n",
    "for char in text:\n",
    "    if char in vowels:\n",
    "        count+=1\n",
    "print(\"Number of vowels:\", count)\n",
    "    "
   ]
  },
  {
   "cell_type": "markdown",
   "id": "db24009c-7b40-4f5f-ba9e-91f0e9c7de99",
   "metadata": {},
   "source": [
    "<b>Q39.  Check if a string is palindrome or not"
   ]
  },
  {
   "cell_type": "code",
   "execution_count": 86,
   "id": "c7ae73b5-83c1-42e8-8d8a-50971c18656c",
   "metadata": {},
   "outputs": [
    {
     "name": "stdout",
     "output_type": "stream",
     "text": [
      "String is Palindrome\n"
     ]
    }
   ],
   "source": [
    "\n",
    "text = \"naman\"\n",
    "if text == text[::-1]:\n",
    " print(\"String is Palindrome\")\n",
    "else:\n",
    "  print(\"String is not a Palindrome\")\n",
    "  "
   ]
  },
  {
   "cell_type": "markdown",
   "id": "6782500a-b6d2-4651-a14a-27cfc02be69d",
   "metadata": {},
   "source": [
    "<b>Q40.  Write a program to print each character of a string on a new line ."
   ]
  },
  {
   "cell_type": "code",
   "execution_count": 14,
   "id": "e74e5316-af13-4262-95ef-c86f709a7c07",
   "metadata": {},
   "outputs": [
    {
     "name": "stdout",
     "output_type": "stream",
     "text": [
      "D\n",
      "A\n",
      "T\n",
      "A\n"
     ]
    }
   ],
   "source": [
    "\n",
    "text = \"DATA\"\n",
    "for char in text:\n",
    "    print(char)\n",
    "    "
   ]
  },
  {
   "cell_type": "markdown",
   "id": "afc2a8e1-1e9b-460f-ad6e-f2c336e63110",
   "metadata": {},
   "source": [
    "<b>\n",
    "Q41. Convert \"12345\" (string) into integer and perform addition with another integer."
   ]
  },
  {
   "cell_type": "code",
   "execution_count": 15,
   "id": "d1720c77-0000-4ef6-8067-5982b4c1b8f6",
   "metadata": {},
   "outputs": [
    {
     "name": "stdout",
     "output_type": "stream",
     "text": [
      "Additon:  12445\n"
     ]
    }
   ],
   "source": [
    "\n",
    "text = \"12345\"  #string\n",
    "num = int(text)\n",
    "addition = num + 100\n",
    "print(\"Additon: \",addition)\n"
   ]
  },
  {
   "cell_type": "markdown",
   "id": "a84a0e68-be55-45a2-ac84-885fcc89f221",
   "metadata": {},
   "source": [
    "<b>Q42.   Find the index of \"E\"  in \"Empower\"."
   ]
  },
  {
   "cell_type": "code",
   "execution_count": 20,
   "id": "e8740bb6-d283-460a-8e21-368c12dbb4be",
   "metadata": {},
   "outputs": [
    {
     "name": "stdout",
     "output_type": "stream",
     "text": [
      "Index of E is : 0\n"
     ]
    }
   ],
   "source": [
    "\n",
    "text = \"Empower\"\n",
    "index = text.index(\"E\")\n",
    "print(f\"Index of E is : {index}\")\n"
   ]
  },
  {
   "cell_type": "markdown",
   "id": "0fb3f986-cea0-46d2-9862-c210326404fb",
   "metadata": {},
   "source": [
    "<b>Q43. Use slicing to print characters from index 2 to 6 of \"DataScience\"."
   ]
  },
  {
   "cell_type": "code",
   "execution_count": 21,
   "id": "76e2ca40-040e-4847-bdbb-1d11fcd912a9",
   "metadata": {},
   "outputs": [
    {
     "name": "stdout",
     "output_type": "stream",
     "text": [
      "taSci\n"
     ]
    }
   ],
   "source": [
    "\n",
    "text= \"DataScience\"\n",
    "sl_text= text[2:7]   #index from 2 to 6\n",
    "print(sl_text)\n",
    "     "
   ]
  },
  {
   "cell_type": "markdown",
   "id": "9839ec68-d032-4604-a390-96759fb27c9b",
   "metadata": {},
   "source": [
    "<b>Q44.  Demonstrate difference between single quotes, double quotes, and triple quotes."
   ]
  },
  {
   "cell_type": "code",
   "execution_count": 24,
   "id": "73c63220-2e15-444a-82eb-5801d29a553e",
   "metadata": {},
   "outputs": [
    {
     "name": "stdout",
     "output_type": "stream",
     "text": [
      "Hii\n",
      "bye\n",
      "Good   \n",
      " night\n"
     ]
    }
   ],
   "source": [
    "\n",
    "singel_text = 'Hii'\n",
    "double_text = \"bye\"\n",
    "triple_text = \"\"\"Good   \n",
    " night\"\"\"                #allows multi-line string\n",
    "print(singel_text)\n",
    "print(double_text)\n",
    "print(triple_text)\n"
   ]
  },
  {
   "cell_type": "markdown",
   "id": "1b651ca2-c511-458e-a384-60afd26f56a9",
   "metadata": {},
   "source": [
    "<b>Q45. Format a string using the .format() method. Example: \"My name is { } , I am { } years old\"."
   ]
  },
  {
   "cell_type": "code",
   "execution_count": 29,
   "id": "c5086a7f-bdb8-4f2a-8e50-586e188523b4",
   "metadata": {},
   "outputs": [
    {
     "name": "stdout",
     "output_type": "stream",
     "text": [
      "My name is Palak Chauhan , I am 19 years old.\n"
     ]
    }
   ],
   "source": [
    "\n",
    "name = \"Palak Chauhan\"\n",
    "age = 19\n",
    "frmt_text = \"My name is {} , I am {} years old.\".format(name, age)\n",
    "print(frmt_text)\n"
   ]
  },
  {
   "cell_type": "markdown",
   "id": "679187de-db6b-447a-b2e8-d1acb7cbd951",
   "metadata": {},
   "source": [
    "<b>Q46. Count how many times \"a\" appears in \"banana\"."
   ]
  },
  {
   "cell_type": "code",
   "execution_count": 34,
   "id": "d64eb426-33f9-4600-bf14-63e686e6cedf",
   "metadata": {},
   "outputs": [
    {
     "name": "stdout",
     "output_type": "stream",
     "text": [
      "Number of a:  3\n"
     ]
    }
   ],
   "source": [
    "\n",
    "fruit = \"banana\"\n",
    "count_a = fruit.count(\"a\")\n",
    "print(\"Number of a: \",count_a)\n"
   ]
  },
  {
   "cell_type": "markdown",
   "id": "afe0a206-aa33-406c-bd3b-cc473ccc1a1e",
   "metadata": {},
   "source": [
    "<b>Q47.  Write a program to check if a string starts with \"Uni\" and ends with \"wer\". "
   ]
  },
  {
   "cell_type": "code",
   "execution_count": 36,
   "id": "7dffc428-c5cd-4bee-93a9-129f505ff242",
   "metadata": {},
   "outputs": [
    {
     "name": "stdout",
     "output_type": "stream",
     "text": [
      "Condition satisfied!\n"
     ]
    }
   ],
   "source": [
    "\n",
    "a_string = \"Unisole Empower\"\n",
    "if a_string.startswith(\"Uni\") and a_string.endswith(\"wer\"):\n",
    "    print(\"Condition satisfied!\")\n",
    "else:\n",
    "    print(\"Condition not satisfied!\")\n",
    "    "
   ]
  },
  {
   "cell_type": "markdown",
   "id": "dd4ff901-88d3-4071-a77d-e79d466bfb7c",
   "metadata": {},
   "source": [
    "<b>Q48.  Explain string immutability with an example."
   ]
  },
  {
   "cell_type": "code",
   "execution_count": 39,
   "id": "37ecce72-7403-4055-8da3-2ef469ef16c7",
   "metadata": {},
   "outputs": [
    {
     "name": "stdout",
     "output_type": "stream",
     "text": [
      "Hola\n"
     ]
    }
   ],
   "source": [
    "# Strings in python are immutable, means you cannot change a character directly but you can concatenate a new string.\n",
    "#Eg:\n",
    "text = \"hola\"\n",
    "#text[0] = \"H\"   #this will generate an error...\n",
    "\n",
    "#correct example..\n",
    "new_text = \"H\" + text[1:]\n",
    "print(new_text)\n"
   ]
  },
  {
   "cell_type": "markdown",
   "id": "cc29216a-283b-4c51-ab54-463159d5cde9",
   "metadata": {},
   "source": [
    "<b>Q49.  Write a program to remove all digits from the string \"Unisole123Empower456\". "
   ]
  },
  {
   "cell_type": "code",
   "execution_count": 46,
   "id": "b6e6cc8b-e872-436c-a2c6-0b8ef3233e37",
   "metadata": {},
   "outputs": [
    {
     "name": "stdout",
     "output_type": "stream",
     "text": [
      "UnisoleEmpower\n"
     ]
    }
   ],
   "source": [
    "\n",
    "a_string = \"Unisole123Empower456\"\n",
    "no_digits =''.join(char for char in a_string if not char.isdigit())\n",
    "print(no_digits)\n"
   ]
  },
  {
   "cell_type": "markdown",
   "id": "21924852-7371-4b03-b43c-38a0f3756d4f",
   "metadata": {},
   "source": [
    "<b>Q50. Write a program to check if a string contains only alphabets."
   ]
  },
  {
   "cell_type": "code",
   "execution_count": 48,
   "id": "4479f0e2-5283-4a9a-a76a-3e50f9d1c0d9",
   "metadata": {},
   "outputs": [
    {
     "name": "stdout",
     "output_type": "stream",
     "text": [
      "The string does not contains only alphabets.\n"
     ]
    }
   ],
   "source": [
    "\n",
    "text = \"Python3.13\"\n",
    "if text.isalpha():\n",
    "    print(\"The string contains only alphabets.\")\n",
    "else:\n",
    "    print(\"The string does not contains only alphabets.\")\n",
    "    "
   ]
  },
  {
   "cell_type": "markdown",
   "id": "0b347bfa-9734-4f53-90a6-6b30dca68f3f",
   "metadata": {},
   "source": [
    "<b>Q51.  Write a program to check if a string contains only digits."
   ]
  },
  {
   "cell_type": "code",
   "execution_count": 50,
   "id": "b7875af0-03c7-4cd8-a541-2e8b519a66b4",
   "metadata": {},
   "outputs": [
    {
     "name": "stdout",
     "output_type": "stream",
     "text": [
      "The string contains only digits.\n"
     ]
    }
   ],
   "source": [
    "\n",
    "text = \"2405050\"\n",
    "if text.isdigit():\n",
    "   print(\"The string contains only digits.\")\n",
    "else:\n",
    "    print(\"The string does not contain only digits.\")\n",
    "    "
   ]
  },
  {
   "cell_type": "markdown",
   "id": "ff7a8268-b719-49ce-a25b-70731015448e",
   "metadata": {},
   "source": [
    "<b>Q52.  Create a multi-line string and print it."
   ]
  },
  {
   "cell_type": "code",
   "execution_count": 51,
   "id": "6d36e4f1-c86c-4db4-97e0-c0edfcdfa907",
   "metadata": {},
   "outputs": [
    {
     "name": "stdout",
     "output_type": "stream",
     "text": [
      "This is a \n",
      "multi-line string\n",
      "in Python.\n"
     ]
    }
   ],
   "source": [
    "#To create a multi-line string\n",
    "\n",
    "text = \"\"\"This is a \n",
    "multi-line string\n",
    "in Python.\"\"\"\n",
    "print(text)\n"
   ]
  },
  {
   "cell_type": "markdown",
   "id": "38bf01b9-2430-4778-951d-e4464526db0e",
   "metadata": {},
   "source": [
    "<b>Q53. Write a program that takes a string input from the user and prints it in reverse."
   ]
  },
  {
   "cell_type": "code",
   "execution_count": 81,
   "id": "3f3c7f4f-6270-4e59-9211-1c9521dcf1c1",
   "metadata": {},
   "outputs": [
    {
     "name": "stdin",
     "output_type": "stream",
     "text": [
      "Enter a string:  unstopable\n"
     ]
    },
    {
     "name": "stdout",
     "output_type": "stream",
     "text": [
      "In reverse:  elbapotsnu\n"
     ]
    }
   ],
   "source": [
    "#To reverse  a string \n",
    "text =input(\"Enter a string: \")\n",
    "rev_string = text[::-1]\n",
    "print(\"In reverse: \",rev_string)\n"
   ]
  },
  {
   "cell_type": "markdown",
   "id": "2bc22232-59d3-4588-82e7-d523d09bc605",
   "metadata": {},
   "source": [
    "<b>Q54. Explain raw strings with an example."
   ]
  },
  {
   "cell_type": "code",
   "execution_count": 55,
   "id": "d9f292ee-5285-43c6-ab73-c0f523cab34e",
   "metadata": {},
   "outputs": [
    {
     "name": "stdout",
     "output_type": "stream",
     "text": [
      "Normal string:  C:\n",
      "ew\f",
      "older\n",
      "Raw string:  C:\\new\\folder\n"
     ]
    }
   ],
   "source": [
    "'''Raw strings treat backlashes(\\) as normal characters and do not interpret them as escape sequences.\n",
    "    r\"\" before the quotes makes it a raw string.'''\n",
    "#Eg:\n",
    "\n",
    "normal = \"C:\\new\\folder\"\n",
    "raw = r\"C:\\new\\folder\"\n",
    "print(\"Normal string: \",normal)\n",
    "print(\"Raw string: \",raw)\n"
   ]
  },
  {
   "cell_type": "markdown",
   "id": "9f307910-b174-4ff8-8270-75c429242fd9",
   "metadata": {},
   "source": [
    "<b>Q55.  Write a program to capitalize the first letter of each word in a string."
   ]
  },
  {
   "cell_type": "code",
   "execution_count": 56,
   "id": "84cfe94f-cbe2-48eb-ad70-e08655a8e807",
   "metadata": {},
   "outputs": [
    {
     "name": "stdout",
     "output_type": "stream",
     "text": [
      "Harry Potter\n"
     ]
    }
   ],
   "source": [
    "\n",
    "a_stringg = \"harry potter\"\n",
    "capitalized_text = a_stringg.title()\n",
    "print(capitalized_text)\n"
   ]
  },
  {
   "cell_type": "markdown",
   "id": "baddc43d-ede6-451e-ae89-ed3d75990ffe",
   "metadata": {},
   "source": [
    "<b>Q56. Check if string is a valid email address."
   ]
  },
  {
   "cell_type": "code",
   "execution_count": 80,
   "id": "2f57b785-ec0f-4fd7-a92e-3db5779b1010",
   "metadata": {},
   "outputs": [
    {
     "name": "stdin",
     "output_type": "stream",
     "text": [
      "Enter your email address: palak@gmail\n"
     ]
    },
    {
     "name": "stdout",
     "output_type": "stream",
     "text": [
      "Invalid email address!\n"
     ]
    }
   ],
   "source": [
    "#To check if string is a valid email or not\n",
    "\n",
    "email = input(\"Enter your email address:\")\n",
    "\n",
    "if \"@\" in email and \"gmail\" in email and \".com\" in email and email.index(\"@\")<email.rindex(\".\"):\n",
    "    print(\"Valid email address\")\n",
    "else:\n",
    "    print(\"Invalid email address!\")\n",
    "    "
   ]
  },
  {
   "cell_type": "markdown",
   "id": "72e0752f-4f22-4f46-85b9-cdab86fd5480",
   "metadata": {},
   "source": [
    "<b>Q57.  Extract the protocol  (http or https) from a URL string."
   ]
  },
  {
   "cell_type": "code",
   "execution_count": 59,
   "id": "a4e36491-ac4a-4ad5-b083-417a4c889086",
   "metadata": {},
   "outputs": [
    {
     "name": "stdout",
     "output_type": "stream",
     "text": [
      "Protocol:  https\n"
     ]
    }
   ],
   "source": [
    "\n",
    "url = \"https://www.youtube.com/\"\n",
    "protocol = url[0:5]\n",
    "print(\"Protocol: \",protocol)\n"
   ]
  },
  {
   "cell_type": "markdown",
   "id": "78545408-daef-4624-8eaf-f7c2c19b32ad",
   "metadata": {},
   "source": [
    "<b>Q58.  Find the frequency of each character in a string."
   ]
  },
  {
   "cell_type": "code",
   "execution_count": 69,
   "id": "7cfa76d1-13ed-4f9e-bbe2-ac179bdc6f78",
   "metadata": {},
   "outputs": [
    {
     "name": "stdout",
     "output_type": "stream",
     "text": [
      "Character frequencies:  {'b': 1, 'a': 3, 'n': 2}\n"
     ]
    }
   ],
   "source": [
    "#To find the frequency of each character in a string...\n",
    "text = \"banana\"\n",
    "freq = {}\n",
    "for char in text:\n",
    "    if char in freq:\n",
    "        freq[char] += 1 #increase the count\n",
    "    else:\n",
    "        freq[char] = 1 #add new character with count 1\n",
    "print(\"Character frequencies: \",freq)\n",
    "        "
   ]
  },
  {
   "cell_type": "markdown",
   "id": "efebf041-000c-4341-88eb-1dcd933524a1",
   "metadata": {},
   "source": [
    "<b>Q59.  Check if strings are anagrams."
   ]
  },
  {
   "cell_type": "code",
   "execution_count": 63,
   "id": "a4e4c6a0-229a-4ae2-b6c9-124c24ba1915",
   "metadata": {},
   "outputs": [
    {
     "name": "stdout",
     "output_type": "stream",
     "text": [
      "The strings are anagrams.\n"
     ]
    }
   ],
   "source": [
    "# Two strings are anagrams if they have same characters in different orders. Eg: dusty-study , earth-heart etc.\n",
    "#Eg:-\n",
    "str1 = \"dusty\"\n",
    "str2 = \"study\"\n",
    "if sorted(str1) == sorted(str2):\n",
    "    print(\"The strings are anagrams.\")\n",
    "else:\n",
    "    print(\"The strings are not anagrams.\")\n",
    "          "
   ]
  },
  {
   "cell_type": "markdown",
   "id": "3bf4ba61-83b6-4353-afa2-ffb3d629840b",
   "metadata": {},
   "source": [
    "<b>Q60.  Encode a string using a Caesar Cipher."
   ]
  },
  {
   "cell_type": "code",
   "execution_count": 83,
   "id": "21699e4c-e9ba-4f38-adb6-0fd617515ef3",
   "metadata": {},
   "outputs": [
    {
     "name": "stdout",
     "output_type": "stream",
     "text": [
      "Encoded string:  KHOOR\n"
     ]
    }
   ],
   "source": [
    "### Caesar cipher is a simple encryption technique where each letter in a text is shifted by a fixed number of positions in the alphabet.\n",
    "\n",
    "text = \"HELLO\"\n",
    "shift = 3\n",
    "encoded =\"\"\n",
    "\n",
    "for char in text:\n",
    "    if char.isalpha():       #check if character is a letter\n",
    "        #convert to uppercase(A=65 in ASCII)\n",
    "        encoded +=chr((ord(char)-65 + shift) % 26 + 65)\n",
    "    else:\n",
    "        encoded +=char #non-alphabetical remain same\n",
    "print(\"Encoded string: \",encoded)\n",
    "        "
   ]
  },
  {
   "cell_type": "markdown",
   "id": "89a729c7-cec4-42af-a8e7-384cc5979b6c",
   "metadata": {},
   "source": [
    "<b>\n",
    "Q61. Decode a Caesar Cipher encoded string."
   ]
  },
  {
   "cell_type": "code",
   "execution_count": 84,
   "id": "4f6797d2-8dc0-4804-b64b-f2beff7c5fd5",
   "metadata": {},
   "outputs": [
    {
     "name": "stdout",
     "output_type": "stream",
     "text": [
      "Decoded string: HELLO\n"
     ]
    }
   ],
   "source": [
    "#To decode a Caesar cipher , you shift each letter in opposite direction by the same shift value that was used to encode it.(-3)\n",
    "\n",
    "encoded_text = \"KHOOR\"\n",
    "shift = 3\n",
    "decoded = \"\"\n",
    "\n",
    "for char in encoded_text:\n",
    "    if char.isupper():   #handle uppercase letter\n",
    "        decoded += chr((ord(char)-65-shift)% 26 + 65)\n",
    "    elif char.islower():  #handle lowercase letter\n",
    "        decoded += chr((ord(char)-97-shift)% 26 + 97)\n",
    "    else:\n",
    "        decoded +=char #non-alphabetic characters stay same\n",
    "print(\"Decoded string:\",decoded)\n"
   ]
  },
  {
   "cell_type": "markdown",
   "id": "09e33bbb-c3ca-445b-bb7f-696301c8ec69",
   "metadata": {},
   "source": [
    "<b>\n",
    "Q62. Find all unique words in a string."
   ]
  },
  {
   "cell_type": "code",
   "execution_count": 64,
   "id": "4a783fbd-383a-4162-bbdd-d1ba1da4371b",
   "metadata": {},
   "outputs": [
    {
     "name": "stdout",
     "output_type": "stream",
     "text": [
      "Unique words:  {'fed', 'Fred', 'bread', 'Ted', 'and'}\n"
     ]
    }
   ],
   "source": [
    "#To find all the unique values in a string...\n",
    "\n",
    "text = \"Fred fed Ted bread and Ted fed Fred bread\"\n",
    "words = text.split()   #.split() method splits the string into a list of words.\n",
    "unique_word = set(words)  #a set removes duplicate values\n",
    "print(\"Unique words: \",unique_word)\n"
   ]
  },
  {
   "cell_type": "markdown",
   "id": "630394f1-8a19-4cd7-a8c0-83d2780352cf",
   "metadata": {},
   "source": [
    "<b>Q63.  Remove the nth word from a string."
   ]
  },
  {
   "cell_type": "code",
   "execution_count": 67,
   "id": "ca5aaa1e-b698-451c-bab2-62456137c30e",
   "metadata": {},
   "outputs": [
    {
     "name": "stdout",
     "output_type": "stream",
     "text": [
      "After removal:  I love playing games.\n"
     ]
    }
   ],
   "source": [
    "#To remove a nth word from a string\n",
    "text = \"I love playing mobile games.\"\n",
    "n = 4    #remove 4th word\n",
    "words = text.split()\n",
    "if 0 < n <= len(words):\n",
    "    words.pop(n-1)\n",
    "    new_text = \" \".join(words)\n",
    "    print(\"After removal: \",new_text)\n",
    "else:\n",
    "    print(\"Invalid!!\")\n",
    "    "
   ]
  },
  {
   "cell_type": "markdown",
   "id": "ff519dda-0768-4a7f-ab8d-0fb625870d16",
   "metadata": {},
   "source": [
    "<b>Q64.  Insert a word at the nth position in the string."
   ]
  },
  {
   "cell_type": "code",
   "execution_count": 68,
   "id": "6c8912c3-9d30-4ce8-a534-b753bf2263d7",
   "metadata": {},
   "outputs": [
    {
     "name": "stdout",
     "output_type": "stream",
     "text": [
      "After insertion:  I am interested in learning Data science.\n"
     ]
    }
   ],
   "source": [
    "#To insert a word at nth position in a string \n",
    "\n",
    "text = \"I am in learning Data science.\"\n",
    "to_insert = \"interested\"\n",
    "n = 3  #insertion at 3rd position\n",
    "\n",
    "words = text.split()\n",
    "if 0 < n <= len(words) + 1:\n",
    "    words.insert(n-1, to_insert)\n",
    "    new_text = \" \".join(words)\n",
    "    print(\"After insertion: \",new_text)\n",
    "else:\n",
    "    print(\"Invalid!!\")\n",
    "    "
   ]
  }
 ],
 "metadata": {
  "kernelspec": {
   "display_name": "Python 3 (ipykernel)",
   "language": "python",
   "name": "python3"
  },
  "language_info": {
   "codemirror_mode": {
    "name": "ipython",
    "version": 3
   },
   "file_extension": ".py",
   "mimetype": "text/x-python",
   "name": "python",
   "nbconvert_exporter": "python",
   "pygments_lexer": "ipython3",
   "version": "3.13.5"
  }
 },
 "nbformat": 4,
 "nbformat_minor": 5
}
